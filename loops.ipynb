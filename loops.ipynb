{
 "cells": [
  {
   "cell_type": "code",
   "execution_count": 12,
   "metadata": {},
   "outputs": [
    {
     "name": "stdout",
     "output_type": "stream",
     "text": [
      "10\n"
     ]
    }
   ],
   "source": [
    "movies = [\n",
    "    'inception',\n",
    "    'batman begins',\n",
    "    'the dark knight',\n",
    "    'the dark knight rises',\n",
    "    'interstellar',\n",
    "    'Fast and Furious',\n",
    "    '2 Fast 2 Furious',\n",
    "    'The Fast and the Furious: Tokyo Drift',\n",
    "    'Fast & Furious 4',\n",
    "    'Fast Five',\n",
    "]\n",
    "print(len(movies))"
   ]
  },
  {
   "cell_type": "code",
   "execution_count": 13,
   "metadata": {},
   "outputs": [
    {
     "name": "stdout",
     "output_type": "stream",
     "text": [
      "inception\n",
      "batman begins\n",
      "the dark knight\n",
      "the dark knight rises\n",
      "interstellar\n",
      "Fast and Furious\n",
      "2 Fast 2 Furious\n",
      "The Fast and the Furious: Tokyo Drift\n",
      "Fast & Furious 4\n",
      "Fast Five\n"
     ]
    }
   ],
   "source": [
    "for title in movies:\n",
    "    print(title)"
   ]
  },
  {
   "cell_type": "code",
   "execution_count": 18,
   "metadata": {},
   "outputs": [
    {
     "name": "stdout",
     "output_type": "stream",
     "text": [
      "inception                                 9 chars\n",
      "batman begins                             13 chars\n",
      "the dark knight                           15 chars\n",
      "the dark knight rises                     21 chars\n",
      "interstellar                              12 chars\n",
      "Fast and Furious                          16 chars\n",
      "2 Fast 2 Furious                          16 chars\n",
      "The Fast and the Furious: Tokyo Drift     37 chars\n",
      "Fast & Furious 4                          16 chars\n",
      "Fast Five                                 9 chars\n"
     ]
    }
   ],
   "source": [
    "for title in movies:\n",
    "    print(f'{title:40}  {len(title)} chars')"
   ]
  },
  {
   "cell_type": "code",
   "execution_count": 21,
   "metadata": {},
   "outputs": [
    {
     "name": "stdout",
     "output_type": "stream",
     "text": [
      "the dark knight\n",
      "the dark knight rises\n",
      "Fast and Furious\n",
      "The Fast and the Furious: Tokyo Drift\n"
     ]
    }
   ],
   "source": [
    "for title in movies:\n",
    "    if 'd' in title or 'D' in title:\n",
    "        print(title)"
   ]
  },
  {
   "cell_type": "code",
   "execution_count": 31,
   "metadata": {},
   "outputs": [
    {
     "name": "stdout",
     "output_type": "stream",
     "text": [
      "10\n"
     ]
    }
   ],
   "source": [
    "# nested loops\n",
    "books = [\n",
    "    ['Warbreaker', 'Brandon Sanderson', 10],\n",
    "    ['Elantris', 'Brandon Sanderson', 10],\n",
    "    ['The Final Empire', 'Brandon Sanderson', 10],\n",
    "    ['The Well of Ascension', 'Brandon Sanderson', 10],\n",
    "    ['The Hero of Ages', 'Brandon Sanderson', 10],\n",
    "    ['The Way of Kings', 'Brandon Sanderson', 10],\n",
    "    ['Words of Radiance', 'Brandon Sanderson', 10],\n",
    "    ['Oathbringer', 'Brandon Sanderson', 10],\n",
    "    ['Rhythm of War', 'Brandon Sanderson', 10],\n",
    "    ['The Eye of the World', 'Robert Jordan', 1],\n",
    "]\n",
    "\n",
    "print(len(books))"
   ]
  },
  {
   "cell_type": "code",
   "execution_count": 32,
   "metadata": {},
   "outputs": [
    {
     "name": "stdout",
     "output_type": "stream",
     "text": [
      "Warbreaker\n",
      "Brandon Sanderson\n",
      "10\n",
      "\n",
      "Elantris\n",
      "Brandon Sanderson\n",
      "10\n",
      "\n",
      "The Final Empire\n",
      "Brandon Sanderson\n",
      "10\n",
      "\n",
      "The Well of Ascension\n",
      "Brandon Sanderson\n",
      "10\n",
      "\n",
      "The Hero of Ages\n",
      "Brandon Sanderson\n",
      "10\n",
      "\n",
      "The Way of Kings\n",
      "Brandon Sanderson\n",
      "10\n",
      "\n",
      "Words of Radiance\n",
      "Brandon Sanderson\n",
      "10\n",
      "\n",
      "Oathbringer\n",
      "Brandon Sanderson\n",
      "10\n",
      "\n",
      "Rhythm of War\n",
      "Brandon Sanderson\n",
      "10\n",
      "\n",
      "The Eye of the World\n",
      "Robert Jordan\n",
      "1\n",
      "\n"
     ]
    }
   ],
   "source": [
    "for book in books:\n",
    "    for field in book:\n",
    "        print(field)\n",
    "    print()"
   ]
  },
  {
   "cell_type": "code",
   "execution_count": 33,
   "metadata": {},
   "outputs": [
    {
     "name": "stdout",
     "output_type": "stream",
     "text": [
      "title: Warbreaker\n",
      "author: Brandon Sanderson\n",
      "rating: 10\n",
      "\n",
      "title: Elantris\n",
      "author: Brandon Sanderson\n",
      "rating: 10\n",
      "\n",
      "title: The Final Empire\n",
      "author: Brandon Sanderson\n",
      "rating: 10\n",
      "\n",
      "title: The Well of Ascension\n",
      "author: Brandon Sanderson\n",
      "rating: 10\n",
      "\n",
      "title: The Hero of Ages\n",
      "author: Brandon Sanderson\n",
      "rating: 10\n",
      "\n",
      "title: The Way of Kings\n",
      "author: Brandon Sanderson\n",
      "rating: 10\n",
      "\n",
      "title: Words of Radiance\n",
      "author: Brandon Sanderson\n",
      "rating: 10\n",
      "\n",
      "title: Oathbringer\n",
      "author: Brandon Sanderson\n",
      "rating: 10\n",
      "\n",
      "title: Rhythm of War\n",
      "author: Brandon Sanderson\n",
      "rating: 10\n",
      "\n",
      "title: The Eye of the World\n",
      "author: Robert Jordan\n",
      "rating: 1\n",
      "\n"
     ]
    }
   ],
   "source": [
    "for book in books:\n",
    "    print(f'title: {book[0]}')\n",
    "    print(f'author: {book[1]}')\n",
    "    print(f'rating: {book[2]}')\n",
    "    print()"
   ]
  },
  {
   "cell_type": "code",
   "execution_count": null,
   "metadata": {},
   "outputs": [],
   "source": []
  }
 ],
 "metadata": {
  "kernelspec": {
   "display_name": "base",
   "language": "python",
   "name": "python3"
  },
  "language_info": {
   "codemirror_mode": {
    "name": "ipython",
    "version": 3
   },
   "file_extension": ".py",
   "mimetype": "text/x-python",
   "name": "python",
   "nbconvert_exporter": "python",
   "pygments_lexer": "ipython3",
   "version": "3.10.11"
  },
  "orig_nbformat": 4
 },
 "nbformat": 4,
 "nbformat_minor": 2
}
