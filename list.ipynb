{
 "cells": [
  {
   "cell_type": "markdown",
   "metadata": {},
   "source": [
    "## data-structure\n",
    "- list 🤩\n",
    "    - indexed, ordered, mutable, `[ ]`\n",
    "- tuple\n",
    "    - indexed, ordered, **immutable**, `( )`    \n",
    "- set\n",
    "    - **unindexed**, **unordered**, mutable, **no-duplicates** `{ }`\n",
    "- dictionary 🤩\n",
    "    - **unindexed**, **ordered**, **key-value pairs**, mutable, `{ }`"
   ]
  },
  {
   "cell_type": "code",
   "execution_count": null,
   "metadata": {},
   "outputs": [],
   "source": [
    "# creating a list\n",
    "x = [] # empty list\n",
    "y = [1,2,3,4,5] # list of integers\n",
    "z = ['sunday', 'monday','holiday']\n",
    "grocery = ['milk', 55, 'bread', 20, 'butter', 49]\n",
    "info = [[1,2,3], [4,5,6], [7,8], [9,10,11,12]] # nested list\n",
    "a = [1] * 15 # list of 15 elements with ones"
   ]
  },
  {
   "cell_type": "code",
   "execution_count": null,
   "metadata": {},
   "outputs": [],
   "source": [
    "x.append(10)\n",
    "x.append(input('Enter a number: '))"
   ]
  },
  {
   "cell_type": "code",
   "execution_count": null,
   "metadata": {},
   "outputs": [],
   "source": [
    "for i in range(3):\n",
    "    val = int(input('Enter a number: '))\n",
    "    x.append(val)\n",
    "print(x)"
   ]
  },
  {
   "cell_type": "code",
   "execution_count": null,
   "metadata": {},
   "outputs": [],
   "source": [
    "del info # delete the variable info from memory"
   ]
  },
  {
   "cell_type": "code",
   "execution_count": null,
   "metadata": {},
   "outputs": [],
   "source": [
    "print(x[0], x[-1], x[1])\n",
    "print(x[:2]) # slicing first two elements\n",
    "print(x[-3:]) # slicing last three elements\n",
    "print(x[::-1]) # reverse the list"
   ]
  },
  {
   "cell_type": "code",
   "execution_count": null,
   "metadata": {},
   "outputs": [],
   "source": [
    "for i in x:\n",
    "    print(i, end=' ')"
   ]
  },
  {
   "cell_type": "markdown",
   "metadata": {},
   "source": [
    "- list functions\n",
    "    - adding\n",
    "        - append() - add sinle item to the end\n",
    "        - insert() - insert single item at given index \n",
    "        - extend() - merge an list to an existing list\n",
    "    - remove\n",
    "        - remove() - remove single item by value\n",
    "        - pop() - remove single item by index\n",
    "        - clear() - remove all items\n",
    "    - utility   \n",
    "        - index() - find index of item by value\n",
    "        - count() - count repeated items\n",
    "        - sort() - sort items\n",
    "        - reverse() - reverse items \n",
    "        - copy() - copy list"
   ]
  },
  {
   "cell_type": "code",
   "execution_count": null,
   "metadata": {},
   "outputs": [],
   "source": [
    "books = [] # books list empty\n",
    "books.append('The Final Empire') # a string is added to the end of list\n",
    "books.append('Psychology of money')\n",
    "books.append('Well of Ascension')\n",
    "books"
   ]
  },
  {
   "cell_type": "code",
   "execution_count": null,
   "metadata": {},
   "outputs": [],
   "source": [
    "books.insert(1, \"Harry Potter and the goblet of fire\")\n",
    "books"
   ]
  },
  {
   "cell_type": "code",
   "execution_count": null,
   "metadata": {},
   "outputs": [],
   "source": [
    "books[2] = \"The Hero of Ages\" # replace \n",
    "books"
   ]
  },
  {
   "cell_type": "code",
   "execution_count": null,
   "metadata": {},
   "outputs": [],
   "source": [
    "old_books = ['A song of Fire and Ice','Umbrella','The Jungle Book','Pride and Prejudice']\n",
    "books.extend(old_books)"
   ]
  },
  {
   "cell_type": "code",
   "execution_count": null,
   "metadata": {},
   "outputs": [],
   "source": [
    "books"
   ]
  },
  {
   "cell_type": "code",
   "execution_count": null,
   "metadata": {},
   "outputs": [],
   "source": [
    "if 'The Jungle Book' in books:\n",
    "    books.remove('The Jungle Book') # removes only the first occurance\n",
    "books"
   ]
  },
  {
   "cell_type": "code",
   "execution_count": null,
   "metadata": {},
   "outputs": [],
   "source": [
    "books.pop(4)"
   ]
  },
  {
   "cell_type": "code",
   "execution_count": null,
   "metadata": {},
   "outputs": [],
   "source": [
    "books.pop() # removes the last item/element"
   ]
  },
  {
   "cell_type": "code",
   "execution_count": null,
   "metadata": {},
   "outputs": [],
   "source": [
    "books.clear() \n",
    "books"
   ]
  },
  {
   "cell_type": "code",
   "execution_count": 8,
   "metadata": {},
   "outputs": [
    {
     "data": {
      "text/plain": [
       "['The Graduate (1967)',\n",
       " '12 Angry Men (1957)',\n",
       " 'Women on the Verge of a Nervous Breakdown (1988)',\n",
       " 'Alien (1979)',\n",
       " 'A Hard Day’s Night (1964)',\n",
       " 'Toy Story (1995)',\n",
       " 'Bridesmaids (2011)',\n",
       " 'Le Samouraï (1967)',\n",
       " 'The Godfather (1972)',\n",
       " 'The Shawshank Redemption (1994)',\n",
       " 'Schindler’s List (1993)',\n",
       " 'Raging Bull (1980)',\n",
       " 'The Wizard of Oz (1939)',\n",
       " 'The Silence of the Lambs (1991)',\n",
       " 'Singin’ in the Rain (1952)',\n",
       " 'Casablanca (1942)',\n",
       " 'The Lord of the Rings: The Return of the King (2003)',\n",
       " 'Psycho (1960)',\n",
       " 'Citizen Kane (1941)',\n",
       " 'Pulp Fiction (1994)',\n",
       " 'The Dark Knight (2008)',\n",
       " 'Star Wars: Episode IV - A New Hope (1977)',\n",
       " 'E.T. the Extra-Terrestrial (1982)',\n",
       " 'Jaws (1975)',\n",
       " 'The Matrix (1999)',\n",
       " 'Raiders of the Lost Ark (1981)',\n",
       " 'Titanic (1997)',\n",
       " 'The Lion King (1994)',\n",
       " 'Forrest Gump (1994)',\n",
       " 'Back to the Future (1985)',\n",
       " 'The Terminator (1984)',\n",
       " 'Jurassic Park (1993)',\n",
       " 'The Sixth Sense (1999)',\n",
       " 'The Avengers (2012)',\n",
       " 'The Shining (1980)',\n",
       " 'The Exorcist (1973)',\n",
       " 'The Sound of Music (1965)',\n",
       " 'Gone with the Wind (1939)',\n",
       " 'The Good, the Bad and the Ugly (1966)',\n",
       " 'Apocalypse Now (1979)',\n",
       " 'One Flew Over the Cuckoo’s Nest (1975)',\n",
       " 'The Godfather Part II (1974)',\n",
       " 'Goodfellas (1990)',\n",
       " 'The Departed (2006)',\n",
       " 'Fight Club (1999)',\n",
       " 'Inception (2010)',\n",
       " 'The Prestige (2006)',\n",
       " 'Memento (2000)',\n",
       " 'The Usual Suspects (1995)',\n",
       " 'The Shawshank Redemption']"
      ]
     },
     "execution_count": 8,
     "metadata": {},
     "output_type": "execute_result"
    }
   ],
   "source": [
    "kachra = '''The Graduate (1967)\n",
    "12 Angry Men (1957)\n",
    "Women on the Verge of a Nervous Breakdown (1988)\n",
    "Alien (1979)\n",
    "A Hard Day’s Night (1964)\n",
    "Toy Story (1995)\n",
    "Bridesmaids (2011)\n",
    "Le Samouraï (1967)\n",
    "The Godfather (1972)\n",
    "The Shawshank Redemption (1994)\n",
    "Schindler’s List (1993)\n",
    "Raging Bull (1980)\n",
    "The Wizard of Oz (1939)\n",
    "The Silence of the Lambs (1991)\n",
    "Singin’ in the Rain (1952)\n",
    "Casablanca (1942)\n",
    "The Lord of the Rings: The Return of the King (2003)\n",
    "Psycho (1960)\n",
    "Citizen Kane (1941)\n",
    "Pulp Fiction (1994)\n",
    "The Dark Knight (2008)\n",
    "Star Wars: Episode IV - A New Hope (1977)\n",
    "E.T. the Extra-Terrestrial (1982)\n",
    "Jaws (1975)\n",
    "The Matrix (1999)\n",
    "Raiders of the Lost Ark (1981)\n",
    "Titanic (1997)\n",
    "The Lion King (1994)\n",
    "Forrest Gump (1994)\n",
    "Back to the Future (1985)\n",
    "The Terminator (1984)\n",
    "Jurassic Park (1993)\n",
    "The Sixth Sense (1999)\n",
    "The Avengers (2012)\n",
    "The Shining (1980)\n",
    "The Exorcist (1973)\n",
    "The Sound of Music (1965)\n",
    "Gone with the Wind (1939)\n",
    "The Good, the Bad and the Ugly (1966)\n",
    "Apocalypse Now (1979)\n",
    "One Flew Over the Cuckoo’s Nest (1975)\n",
    "The Godfather Part II (1974)\n",
    "Goodfellas (1990)\n",
    "The Departed (2006)\n",
    "Fight Club (1999)\n",
    "Inception (2010)\n",
    "The Prestige (2006)\n",
    "Memento (2000)\n",
    "The Usual Suspects (1995)\n",
    "The Shawshank Redemption\n",
    "'''\n",
    "movies = kachra.splitlines()\n",
    "movies"
   ]
  },
  {
   "cell_type": "code",
   "execution_count": null,
   "metadata": {},
   "outputs": [],
   "source": [
    "print(len(movies))"
   ]
  },
  {
   "cell_type": "code",
   "execution_count": null,
   "metadata": {},
   "outputs": [],
   "source": [
    "movies.reverse()"
   ]
  },
  {
   "cell_type": "code",
   "execution_count": null,
   "metadata": {},
   "outputs": [],
   "source": [
    "movies.sort()\n",
    "movies"
   ]
  },
  {
   "cell_type": "code",
   "execution_count": null,
   "metadata": {},
   "outputs": [],
   "source": [
    "movies.sort(reverse=True)\n",
    "movies"
   ]
  },
  {
   "cell_type": "code",
   "execution_count": 55,
   "metadata": {},
   "outputs": [
    {
     "data": {
      "text/plain": [
       "1"
      ]
     },
     "execution_count": 55,
     "metadata": {},
     "output_type": "execute_result"
    }
   ],
   "source": [
    "movies.count('Inception (2010)')"
   ]
  },
  {
   "cell_type": "code",
   "execution_count": 57,
   "metadata": {},
   "outputs": [
    {
     "name": "stdout",
     "output_type": "stream",
     "text": [
      "2\n",
      "3\n",
      "0\n"
     ]
    }
   ],
   "source": [
    "x = [1,1,2,5,5,5]\n",
    "print(x.count(1))\n",
    "print(x.count(5))\n",
    "print(x.count(8))"
   ]
  },
  {
   "cell_type": "code",
   "execution_count": 63,
   "metadata": {},
   "outputs": [
    {
     "data": {
      "text/plain": [
       "1"
      ]
     },
     "execution_count": 63,
     "metadata": {},
     "output_type": "execute_result"
    }
   ],
   "source": [
    "movies.index('Toy Story (1995)')"
   ]
  },
  {
   "cell_type": "code",
   "execution_count": 64,
   "metadata": {},
   "outputs": [],
   "source": [
    "movies_bk = movies.copy() # copies a list to a new memory location"
   ]
  },
  {
   "cell_type": "code",
   "execution_count": 69,
   "metadata": {},
   "outputs": [
    {
     "name": "stdout",
     "output_type": "stream",
     "text": [
      "[48, 16, 14, 23, 25, 21, 25, 22, 31, 18, 31, 24, 19, 17, 52, 20, 19, 37, 28, 20, 19, 19, 22, 19, 41, 26, 23, 30, 18, 19, 13, 38, 14, 18, 20, 11, 16, 17, 25, 19, 17, 33, 19, 17, 18, 25, 21, 12, 25, 19]\n"
     ]
    }
   ],
   "source": [
    "size_movies = []\n",
    "for movie in movies:\n",
    "    s = len(movie)\n",
    "    size_movies.append(s)\n",
    "print(size_movies)"
   ]
  },
  {
   "cell_type": "code",
   "execution_count": 70,
   "metadata": {},
   "outputs": [
    {
     "name": "stdout",
     "output_type": "stream",
     "text": [
      "[16, 2, 3, 4, 5, 6, 10, 20]\n",
      "[256, 4, 9, 16, 25, 36, 100, 400]\n"
     ]
    }
   ],
   "source": [
    "x = [16,2,3,4,5,6,10,20]\n",
    "x2 = [i**2 for i in x]\n",
    "print(x)\n",
    "print(x2)"
   ]
  },
  {
   "cell_type": "code",
   "execution_count": 71,
   "metadata": {},
   "outputs": [
    {
     "name": "stdout",
     "output_type": "stream",
     "text": [
      "[16, 2, 3, 4, 5, 6, 10, 20]\n",
      "[256, 4, 16, 36, 100, 400]\n"
     ]
    }
   ],
   "source": [
    "x2_even = [i**2 for i in x if i%2==0]\n",
    "print(x)\n",
    "print(x2_even)"
   ]
  },
  {
   "cell_type": "code",
   "execution_count": 3,
   "metadata": {},
   "outputs": [
    {
     "name": "stdout",
     "output_type": "stream",
     "text": [
      "['Alex', 'Sam', 'Raj', 'Amar', 'Bruce']\n"
     ]
    }
   ],
   "source": [
    "names = ['Alex Pierce','Sam Hemmingway','Raj Mohan','Amar Pratap', 'Bruce Lee']\n",
    "fnames = [name.split()[0] for name in names]\n",
    "print(fnames)"
   ]
  },
  {
   "cell_type": "code",
   "execution_count": 5,
   "metadata": {},
   "outputs": [
    {
     "name": "stdout",
     "output_type": "stream",
     "text": [
      "[125, 343, 27, 1, 343]\n"
     ]
    }
   ],
   "source": [
    "numbers = [2,5,7,3,1,4,7]\n",
    "odd_cubes = [i**3 for i in numbers if i%2!=0]\n",
    "print(odd_cubes)"
   ]
  },
  {
   "cell_type": "code",
   "execution_count": 7,
   "metadata": {},
   "outputs": [
    {
     "name": "stdout",
     "output_type": "stream",
     "text": [
      "[125, 343, 27, 1, 343]\n"
     ]
    }
   ],
   "source": [
    "odd_cubes = []\n",
    "for i in numbers:\n",
    "    if i%2!=0:\n",
    "        odd_cubes.append(i**3)\n",
    "print(odd_cubes)"
   ]
  },
  {
   "cell_type": "code",
   "execution_count": null,
   "metadata": {},
   "outputs": [],
   "source": []
  }
 ],
 "metadata": {
  "kernelspec": {
   "display_name": "base",
   "language": "python",
   "name": "python3"
  },
  "language_info": {
   "codemirror_mode": {
    "name": "ipython",
    "version": 3
   },
   "file_extension": ".py",
   "mimetype": "text/x-python",
   "name": "python",
   "nbconvert_exporter": "python",
   "pygments_lexer": "ipython3",
   "version": "3.10.11"
  },
  "orig_nbformat": 4
 },
 "nbformat": 4,
 "nbformat_minor": 2
}
