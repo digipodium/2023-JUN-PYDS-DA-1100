{
 "cells": [
  {
   "cell_type": "code",
   "execution_count": null,
   "metadata": {},
   "outputs": [],
   "source": [
    "import numpy as np"
   ]
  },
  {
   "cell_type": "code",
   "execution_count": null,
   "metadata": {},
   "outputs": [],
   "source": [
    "x = np.array([2,3,5,1]) # 1D array\n",
    "x2d = np.array([[1,2,3],[4,5,6]]) # 2D array\n",
    "x3d = np.array([[[1,3],[4,2]],[[2,1],[3,4]]])\n",
    "print(x)\n",
    "print(x2d)\n",
    "print(x3d)"
   ]
  },
  {
   "cell_type": "code",
   "execution_count": null,
   "metadata": {},
   "outputs": [],
   "source": [
    "# sequential matrix, np.arange() and np.linspace()\n",
    "np.arange(0, 10, .2).reshape(5, 10)"
   ]
  },
  {
   "cell_type": "code",
   "execution_count": null,
   "metadata": {},
   "outputs": [],
   "source": [
    "np.linspace(0, 15, 100)"
   ]
  },
  {
   "cell_type": "code",
   "execution_count": null,
   "metadata": {},
   "outputs": [],
   "source": [
    "# randomized matrix with np.random\n",
    "# np.random.rand()\n",
    "print(np.random.rand(2,2)) # 0 to 1\n",
    "\n",
    "# np.random.randn() # normal distribution\n",
    "print(np.random.randn(3,3)) # normal distribution\n",
    "\n",
    "# np.random.randint()\n",
    "print(np.random.randint(-10,10,(3,3))) # random int from -10 to 10\n",
    "\n",
    "# np.random.uniform()\n",
    "print(np.random.uniform(0,2,(3,3))) # random uniform from 0 to 2\n",
    "\n",
    "# np.random.permutation()\n",
    "print(np.random.permutation([1,2,3,4,5,6,7,8,9,10])) # random permutation"
   ]
  },
  {
   "cell_type": "markdown",
   "metadata": {},
   "source": [
    "operations"
   ]
  },
  {
   "cell_type": "code",
   "execution_count": null,
   "metadata": {},
   "outputs": [],
   "source": [
    "a = np.random.randint(-10,10, (3,3))\n",
    "b = np.random.randint(-10,10, (3,3))\n",
    "print(a)\n",
    "print(b)"
   ]
  },
  {
   "cell_type": "code",
   "execution_count": null,
   "metadata": {},
   "outputs": [],
   "source": [
    "# matrix and constant operations\n",
    "a ** 2 # + - * / ** % //"
   ]
  },
  {
   "cell_type": "code",
   "execution_count": null,
   "metadata": {},
   "outputs": [],
   "source": [
    "# same size matrix operations\n",
    "print(a + b)\n",
    "print(a - b)\n",
    "print(a / b)\n",
    "print(a * b) # element-wise multiplication\n",
    "print(a @ b) # matrix multiplication"
   ]
  },
  {
   "cell_type": "code",
   "execution_count": null,
   "metadata": {},
   "outputs": [],
   "source": [
    "# matrix multiplication\n",
    "np.matmul(a, b) # or np.dot(a, b) or a @ b"
   ]
  },
  {
   "cell_type": "markdown",
   "metadata": {},
   "source": [
    "indexing\n",
    "```\n",
    "mat[row, col]\n",
    "```\n",
    "\n",
    "2d Slicing\n",
    "```\n",
    "mat[row_start : row_end, col_start : col_end]\n",
    "```"
   ]
  },
  {
   "cell_type": "code",
   "execution_count": null,
   "metadata": {},
   "outputs": [],
   "source": [
    "z = np.random.randint(11, 20, (8,8))\n",
    "print(z)"
   ]
  },
  {
   "cell_type": "code",
   "execution_count": null,
   "metadata": {},
   "outputs": [],
   "source": [
    "# single element indexing\n",
    "print(z[0,0], z[2,-1], z[5,5])\n",
    "\n",
    "# single row\n",
    "print(\"fifth row\",z[4]) # 5th row (index 4)\n",
    "\n",
    "# single column\n",
    "print(\"first column\", z[:, 0]) # first column (index 0)\n",
    "print('last column', z[:, -1]) # last column (index -1)\n",
    "\n",
    "# multiple rows in sequence\n",
    "print('first 3 rows\\n', z[:3]) # first three rows' (index 0, 1 and 2)\n",
    "# multiple columns in sequence\n",
    "print('first 3 columns\\n', z[:, :3]) # first three columns (index 0, 1 and 2)"
   ]
  },
  {
   "cell_type": "markdown",
   "metadata": {},
   "source": [
    "boolean filter"
   ]
  },
  {
   "cell_type": "code",
   "execution_count": null,
   "metadata": {},
   "outputs": [],
   "source": [
    "x = np.random.randint(1,6, (5,5))\n",
    "print(x)"
   ]
  },
  {
   "cell_type": "code",
   "execution_count": null,
   "metadata": {},
   "outputs": [],
   "source": [
    "x[x<3]"
   ]
  },
  {
   "cell_type": "code",
   "execution_count": null,
   "metadata": {},
   "outputs": [],
   "source": [
    "x = np.random.randint(-10, 10, (5,5))\n",
    "print(x)\n",
    "\n",
    "x[(x>0) & (x<6)]"
   ]
  },
  {
   "cell_type": "markdown",
   "metadata": {},
   "source": [
    "useful function in numpy"
   ]
  },
  {
   "cell_type": "code",
   "execution_count": null,
   "metadata": {},
   "outputs": [],
   "source": [
    "x = np.random.randint(1, 10, (3,5))\n",
    "print(x)\n",
    "print(x.transpose())\n",
    "print(x.T)\n",
    "# flatten\n",
    "print(x.flatten())\n",
    "print(x.ravel())\n",
    "# reshape\n",
    "print(x.reshape(-1, 1)) # make a 2D array with 1 column\n",
    "print(x.reshape(1, -1)) # make a 2D array with 1 row"
   ]
  },
  {
   "cell_type": "code",
   "execution_count": null,
   "metadata": {},
   "outputs": [],
   "source": [
    "# concatenate\n",
    "x = np.array([[1,2,3], [4,5,6]])\n",
    "y = np.array([[3,2,1], [1,1,1]])\n",
    "print(x)\n",
    "print(y)\n",
    "print(np.concatenate([x, y], axis=0)) # axis=0: row\n",
    "print(np.concatenate([x, y], axis=1)) # axis=1: column"
   ]
  },
  {
   "cell_type": "code",
   "execution_count": null,
   "metadata": {},
   "outputs": [],
   "source": [
    "# stacking\n",
    "a = np.random.randint(0,10,(2,3))\n",
    "b = np.random.randint(0,10,(2,3)) \n",
    "print(np.vstack((a,b))) # vertical stack\n",
    "print(np.hstack((a,b))) # horizontal stack"
   ]
  },
  {
   "cell_type": "code",
   "execution_count": null,
   "metadata": {},
   "outputs": [],
   "source": [
    "# to list\n",
    "print(a.tolist())\n",
    "# to a file\n",
    "np.savetxt('a.npy', a)"
   ]
  },
  {
   "cell_type": "code",
   "execution_count": null,
   "metadata": {},
   "outputs": [],
   "source": [
    "import matplotlib.pyplot as plt"
   ]
  },
  {
   "cell_type": "code",
   "execution_count": null,
   "metadata": {},
   "outputs": [],
   "source": [
    "t = np.arange(-5, 5, .2)\n",
    "s1 = np.sin(t) # sine values of each item\n",
    "plt.plot(t, s1, 'ro--') # red dots with dashed lines"
   ]
  }
 ],
 "metadata": {
  "kernelspec": {
   "display_name": "base",
   "language": "python",
   "name": "python3"
  },
  "language_info": {
   "codemirror_mode": {
    "name": "ipython",
    "version": 3
   },
   "file_extension": ".py",
   "mimetype": "text/x-python",
   "name": "python",
   "nbconvert_exporter": "python",
   "pygments_lexer": "ipython3",
   "version": "3.10.11"
  },
  "orig_nbformat": 4
 },
 "nbformat": 4,
 "nbformat_minor": 2
}
