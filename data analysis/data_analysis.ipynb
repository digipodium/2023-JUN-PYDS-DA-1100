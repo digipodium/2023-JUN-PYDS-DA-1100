{
 "cells": [
  {
   "cell_type": "markdown",
   "metadata": {},
   "source": [
    "**required libraries** -> pandas, openpyxl\n",
    "- run this command in the terminal\n",
    "    ```\n",
    "    pip install pandas openpyxl --upgrade\n",
    "    ```"
   ]
  },
  {
   "cell_type": "markdown",
   "metadata": {},
   "source": [
    "Pandas Concepts to be covered:\n",
    "- Loading Data into Pandas\n",
    "- Series and DataFrames\n",
    "- Viewing Data\n",
    "    - head()\n",
    "    - tail()\n",
    "    - sample()\n",
    "- Selection \n",
    "    - single column\n",
    "    - multiple columns\n",
    "    - Row Selection by Label\n",
    "        - loc\n",
    "    - Row Selection by Position\n",
    "        - iloc\n",
    "- Data Manipulation\n",
    "    - Adding Columns\n",
    "    - Removing Columns\n",
    "    - Renaming Columns\n",
    "    - Replacing Values\n",
    "    - Applying Functions\n",
    "- Data Cleaning\n",
    "    - Handling Missing Data\n",
    "    - Handling Duplicates\n",
    "    - Handling Outliers\n",
    "    - Handling Incorrect Data Types\n",
    "    - Handling Inconsistent Data Entry\n",
    "- Grouping and Aggregating\n",
    "    - Grouping\n",
    "    - Aggregating\n",
    "    - Applying Functions\n",
    "- Sorting\n",
    "    - Sorting by Index\n",
    "    - Sorting by Values\n",
    "- Data Visualization\n",
    "    - Matplotlib\n",
    "    - Seaborn\n",
    "    - plotly\n"
   ]
  },
  {
   "cell_type": "code",
   "execution_count": null,
   "metadata": {},
   "outputs": [],
   "source": [
    "import pandas as pd\n",
    "import numpy as np"
   ]
  },
  {
   "cell_type": "code",
   "execution_count": null,
   "metadata": {},
   "outputs": [],
   "source": [
    "pd.set_option('display.max_columns', None)"
   ]
  },
  {
   "cell_type": "code",
   "execution_count": null,
   "metadata": {},
   "outputs": [],
   "source": [
    "file = 'Canada.xlsx'\n",
    "canada = pd.read_excel(file, sheet_name=1, skiprows=20, skipfooter=2)"
   ]
  },
  {
   "cell_type": "code",
   "execution_count": null,
   "metadata": {},
   "outputs": [],
   "source": [
    "canada['AreaName'] # series - only 1 column (1 Dimensional)"
   ]
  },
  {
   "cell_type": "code",
   "execution_count": null,
   "metadata": {},
   "outputs": [],
   "source": [
    "canada # data frame - 2D data structure"
   ]
  },
  {
   "cell_type": "code",
   "execution_count": null,
   "metadata": {},
   "outputs": [],
   "source": [
    "canada.head() # first 5"
   ]
  },
  {
   "cell_type": "code",
   "execution_count": null,
   "metadata": {},
   "outputs": [],
   "source": [
    "canada.head(2) # first 2"
   ]
  },
  {
   "cell_type": "code",
   "execution_count": null,
   "metadata": {},
   "outputs": [],
   "source": [
    "canada.tail()"
   ]
  },
  {
   "cell_type": "code",
   "execution_count": null,
   "metadata": {},
   "outputs": [],
   "source": [
    "canada.sample(5) # random sample of 5 rows"
   ]
  },
  {
   "cell_type": "code",
   "execution_count": null,
   "metadata": {},
   "outputs": [],
   "source": [
    "canada[5:10] # slice of dataset"
   ]
  },
  {
   "cell_type": "code",
   "execution_count": null,
   "metadata": {},
   "outputs": [],
   "source": [
    "canada['RegName'] # dict-like access to a Series"
   ]
  },
  {
   "cell_type": "code",
   "execution_count": null,
   "metadata": {},
   "outputs": [],
   "source": [
    "canada.RegName # object style access"
   ]
  },
  {
   "cell_type": "code",
   "execution_count": null,
   "metadata": {},
   "outputs": [],
   "source": [
    "cols = list(range(1980, 1991))\n",
    "canada[cols]"
   ]
  },
  {
   "cell_type": "code",
   "execution_count": null,
   "metadata": {},
   "outputs": [],
   "source": [
    "cols = ['AreaName','RegName',2013]\n",
    "canada[cols]"
   ]
  },
  {
   "cell_type": "code",
   "execution_count": null,
   "metadata": {},
   "outputs": [],
   "source": [
    "canada[['AreaName','RegName',2013]]"
   ]
  },
  {
   "cell_type": "code",
   "execution_count": null,
   "metadata": {},
   "outputs": [],
   "source": [
    "canada.set_index('OdName', inplace=True)"
   ]
  },
  {
   "cell_type": "code",
   "execution_count": null,
   "metadata": {},
   "outputs": [],
   "source": [
    "canada"
   ]
  },
  {
   "cell_type": "code",
   "execution_count": null,
   "metadata": {},
   "outputs": [],
   "source": [
    "canada.iloc[0] # row index 0"
   ]
  },
  {
   "cell_type": "code",
   "execution_count": null,
   "metadata": {},
   "outputs": [],
   "source": [
    "canada.iloc[100]"
   ]
  },
  {
   "cell_type": "code",
   "execution_count": null,
   "metadata": {},
   "outputs": [],
   "source": [
    "canada.iloc[10:20] # 10 -19 rows"
   ]
  },
  {
   "cell_type": "code",
   "execution_count": null,
   "metadata": {},
   "outputs": [],
   "source": [
    "canada.iloc[10:16, :10] # 10-15 rows, 0-9 columns"
   ]
  },
  {
   "cell_type": "code",
   "execution_count": null,
   "metadata": {},
   "outputs": [],
   "source": [
    "canada.loc['Japan'] # row that has the index 'Japan'"
   ]
  },
  {
   "cell_type": "code",
   "execution_count": null,
   "metadata": {},
   "outputs": [],
   "source": [
    "canada.loc[['Japan','France']]"
   ]
  },
  {
   "cell_type": "code",
   "execution_count": null,
   "metadata": {},
   "outputs": [],
   "source": [
    "canada.loc[['Japan','France'], [1980, 1981, 1982, 1983, 1984, 1985]]"
   ]
  },
  {
   "cell_type": "code",
   "execution_count": null,
   "metadata": {},
   "outputs": [],
   "source": [
    "vs = canada.loc[['Japan','France','India'], [1980, 1981, 1982, 1983, 1984, 1985]]"
   ]
  },
  {
   "cell_type": "markdown",
   "metadata": {},
   "source": [
    "adding a total column"
   ]
  },
  {
   "cell_type": "code",
   "execution_count": null,
   "metadata": {},
   "outputs": [],
   "source": [
    "# adding a total column\n",
    "years = list(range(1980, 2014))\n",
    "canada[years].sum(axis=1)"
   ]
  },
  {
   "cell_type": "code",
   "execution_count": null,
   "metadata": {},
   "outputs": [],
   "source": [
    "\n",
    "canada['Total'] = canada[years].sum(axis=1) # axis=1 means sum across columns (horizontally)\n",
    "canada.head()"
   ]
  },
  {
   "cell_type": "code",
   "execution_count": null,
   "metadata": {},
   "outputs": [],
   "source": [
    "canada['Faltu'] = 20\n",
    "canada.head(3)"
   ]
  },
  {
   "cell_type": "markdown",
   "metadata": {},
   "source": [
    "removing a column"
   ]
  },
  {
   "cell_type": "code",
   "execution_count": null,
   "metadata": {},
   "outputs": [],
   "source": [
    "canada.drop(columns='Faltu',inplace=True)\n",
    "canada.head(2)"
   ]
  },
  {
   "cell_type": "markdown",
   "metadata": {},
   "source": [
    "removing multiple columns"
   ]
  },
  {
   "cell_type": "code",
   "execution_count": null,
   "metadata": {},
   "outputs": [],
   "source": [
    "cols_to_drop = ['Type','Coverage','AREA','REG','DEV']\n",
    "canada.drop(columns=cols_to_drop, inplace=True)\n",
    "canada.head(2)"
   ]
  },
  {
   "cell_type": "markdown",
   "metadata": {},
   "source": [
    "renaming columns"
   ]
  },
  {
   "cell_type": "code",
   "execution_count": null,
   "metadata": {},
   "outputs": [],
   "source": [
    "canada.rename(mapper={\n",
    "    'AreaName': 'Continent',\n",
    "    'RegName': 'Region',\n",
    "    'DevName': 'Status'\n",
    "}, axis=1, inplace=True)\n",
    "canada.head(2)"
   ]
  },
  {
   "cell_type": "markdown",
   "metadata": {},
   "source": [
    "replacing data"
   ]
  },
  {
   "cell_type": "code",
   "execution_count": null,
   "metadata": {},
   "outputs": [],
   "source": [
    "canada.replace('Developing regions', 0, inplace=True)\n",
    "canada.replace('Developed regions', 1, inplace=True)\n",
    "canada.head()"
   ]
  },
  {
   "cell_type": "markdown",
   "metadata": {},
   "source": [
    "applying lambda operation on column"
   ]
  },
  {
   "cell_type": "code",
   "execution_count": null,
   "metadata": {},
   "outputs": [],
   "source": [
    "canada['Total'].apply(lambda x: x > 50000).value_counts()"
   ]
  },
  {
   "cell_type": "markdown",
   "metadata": {},
   "source": [
    "applying a function operation to a dataframe column"
   ]
  },
  {
   "cell_type": "code",
   "execution_count": null,
   "metadata": {},
   "outputs": [],
   "source": [
    "import seaborn as sns\n",
    "\n",
    "penguins = sns.load_dataset(\"penguins\")"
   ]
  },
  {
   "cell_type": "code",
   "execution_count": null,
   "metadata": {},
   "outputs": [],
   "source": [
    "pd.cut(penguins['body_mass_g'], 3).unique()"
   ]
  },
  {
   "cell_type": "code",
   "execution_count": null,
   "metadata": {},
   "outputs": [],
   "source": [
    "def categorize_by_weight(value):\n",
    "    if value == np.nan:\n",
    "        return np.nan\n",
    "    elif  value <= 3900 :\n",
    "        return 'Light weight'\n",
    "    elif value > 3900 and value <= 5100:\n",
    "        return 'Medium weight'\n",
    "    elif value > 5100:\n",
    "        return 'Heavy weight'\n",
    "\n",
    "# categorize_by_weight(4000)\n",
    "penguins['category'] = penguins['body_mass_g'].apply(categorize_by_weight)\n",
    "penguins.head()    "
   ]
  },
  {
   "cell_type": "markdown",
   "metadata": {},
   "source": [
    "- Data Cleaning\n",
    "    - Handling Missing Data\n",
    "    - Handling Duplicates\n",
    "    - Handling Incorrect Data Types\n",
    "    - Handling Inconsistent Data Entry\n",
    "- Grouping and Aggregating\n",
    "    - Grouping\n",
    "    - Aggregating\n",
    "    - Applying Functions\n",
    "- Sorting\n",
    "    - Sorting by Index\n",
    "    - Sorting by Values"
   ]
  },
  {
   "cell_type": "code",
   "execution_count": null,
   "metadata": {},
   "outputs": [],
   "source": [
    "import plotly.express as px"
   ]
  },
  {
   "cell_type": "code",
   "execution_count": null,
   "metadata": {},
   "outputs": [],
   "source": [
    "penguins"
   ]
  },
  {
   "cell_type": "code",
   "execution_count": null,
   "metadata": {},
   "outputs": [],
   "source": [
    "penguins.groupby('species').get_group('Gentoo')"
   ]
  },
  {
   "cell_type": "code",
   "execution_count": null,
   "metadata": {},
   "outputs": [],
   "source": [
    "penguins.groupby('species')['bill_length_mm'].max()"
   ]
  },
  {
   "cell_type": "code",
   "execution_count": null,
   "metadata": {},
   "outputs": [],
   "source": [
    "penguins.groupby('species')[['bill_length_mm','body_mass_g']].max()"
   ]
  },
  {
   "cell_type": "code",
   "execution_count": null,
   "metadata": {},
   "outputs": [],
   "source": [
    "penguins.groupby('species')[['bill_length_mm','body_mass_g']].sum()"
   ]
  },
  {
   "cell_type": "code",
   "execution_count": null,
   "metadata": {},
   "outputs": [],
   "source": [
    "# numpy print options\n",
    "np.set_printoptions(precision=2)\n",
    "pd.set_option('display.precision', 2)"
   ]
  },
  {
   "cell_type": "code",
   "execution_count": null,
   "metadata": {},
   "outputs": [],
   "source": [
    "penguins.groupby(['species','island','sex'])[['bill_length_mm',\n",
    "                                               'body_mass_g']].mean().reset_index()"
   ]
  },
  {
   "cell_type": "code",
   "execution_count": null,
   "metadata": {},
   "outputs": [],
   "source": [
    "penguins.pivot_table(values='body_mass_g', index='species', columns='island')"
   ]
  },
  {
   "cell_type": "code",
   "execution_count": null,
   "metadata": {},
   "outputs": [],
   "source": [
    "pp = penguins.pivot_table(values='body_mass_g', index='species', columns='island',\n",
    "                     aggfunc='sum')\n",
    "pp"
   ]
  },
  {
   "cell_type": "code",
   "execution_count": null,
   "metadata": {},
   "outputs": [],
   "source": [
    "pp.replace(np.nan, 0, inplace=True)\n",
    "pp = pp.astype(int)\n",
    "pp"
   ]
  },
  {
   "cell_type": "code",
   "execution_count": null,
   "metadata": {},
   "outputs": [],
   "source": [
    "groupdf = penguins.groupby(['species','island','sex'])[['bill_length_mm',\n",
    "                                               'body_mass_g']].mean().reset_index()"
   ]
  },
  {
   "cell_type": "code",
   "execution_count": null,
   "metadata": {},
   "outputs": [],
   "source": [
    "groupdf.sort_values('body_mass_g')"
   ]
  },
  {
   "cell_type": "code",
   "execution_count": null,
   "metadata": {},
   "outputs": [],
   "source": [
    "groupdf.sort_values('body_mass_g', ascending=False) # descending order"
   ]
  },
  {
   "cell_type": "code",
   "execution_count": null,
   "metadata": {},
   "outputs": [],
   "source": [
    "sns.get_dataset_names()"
   ]
  },
  {
   "cell_type": "code",
   "execution_count": null,
   "metadata": {},
   "outputs": [],
   "source": [
    "car_crashes = sns.load_dataset('car_crashes')\n",
    "car_crashes.head()"
   ]
  },
  {
   "cell_type": "code",
   "execution_count": null,
   "metadata": {},
   "outputs": [],
   "source": [
    "car_crashes.drop(columns=['abbrev'], inplace=True)"
   ]
  },
  {
   "cell_type": "markdown",
   "metadata": {},
   "source": [
    "filter"
   ]
  },
  {
   "cell_type": "code",
   "execution_count": null,
   "metadata": {},
   "outputs": [],
   "source": [
    "car_crashes.sort_values(by='alcohol', ascending=False, inplace=True)"
   ]
  },
  {
   "cell_type": "code",
   "execution_count": null,
   "metadata": {},
   "outputs": [],
   "source": [
    "car_crashes[car_crashes['alcohol'] > 5]"
   ]
  },
  {
   "cell_type": "code",
   "execution_count": null,
   "metadata": {},
   "outputs": [],
   "source": []
  }
 ],
 "metadata": {
  "kernelspec": {
   "display_name": "base",
   "language": "python",
   "name": "python3"
  },
  "language_info": {
   "codemirror_mode": {
    "name": "ipython",
    "version": 3
   },
   "file_extension": ".py",
   "mimetype": "text/x-python",
   "name": "python",
   "nbconvert_exporter": "python",
   "pygments_lexer": "ipython3",
   "version": "3.10.11"
  },
  "orig_nbformat": 4
 },
 "nbformat": 4,
 "nbformat_minor": 2
}
