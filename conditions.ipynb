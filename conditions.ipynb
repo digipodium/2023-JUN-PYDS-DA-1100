{
 "cells": [
  {
   "attachments": {},
   "cell_type": "markdown",
   "metadata": {},
   "source": [
    "## true values\n",
    "    - True\n",
    "    - any non zero number\n",
    "    - any non empty string\n",
    "    - any non empty data structure\n",
    "\n",
    "## false values\n",
    "    - False\n",
    "    - 0\n",
    "    - empty string\n",
    "    - empty data structure"
   ]
  },
  {
   "attachments": {},
   "cell_type": "markdown",
   "metadata": {},
   "source": [
    "#### a python block of code\n",
    "\n",
    "```shell\n",
    "keyword expression:\n",
    "    statement 1\n",
    "    statement 2\n",
    "    ...\n",
    "    statement n\n",
    "statement outside block\n",
    "```\n",
    "4 spaces or 1 tab = 1 indentation"
   ]
  },
  {
   "cell_type": "code",
   "execution_count": 13,
   "metadata": {},
   "outputs": [
    {
     "name": "stdout",
     "output_type": "stream",
     "text": [
      "x is bigger than 25\n"
     ]
    }
   ],
   "source": [
    "x = 30\n",
    "if x > 25:\n",
    "    print('x is bigger than 25')"
   ]
  },
  {
   "cell_type": "code",
   "execution_count": 24,
   "metadata": {},
   "outputs": [
    {
     "name": "stdout",
     "output_type": "stream",
     "text": [
      "x is bigger than 10\n",
      "x is bigger than 50\n",
      "x is bigger than 100\n",
      "the end\n"
     ]
    }
   ],
   "source": [
    "x = int(input('enter a number'))\n",
    "if x > 10:\n",
    "    print('x is bigger than 10')\n",
    "if x > 50:\n",
    "    print('x is bigger than 50')\n",
    "if x > 100:\n",
    "    print('x is bigger than 100')\n",
    "if x <= 10:\n",
    "    print('x is smaller than or equal to 10')\n",
    "print('the end')"
   ]
  },
  {
   "cell_type": "code",
   "execution_count": 22,
   "metadata": {},
   "outputs": [
    {
     "name": "stdout",
     "output_type": "stream",
     "text": [
      "odd\n"
     ]
    }
   ],
   "source": [
    "num = 3\n",
    "if num % 2 == 0:\n",
    "    print('even')\n",
    "else:\n",
    "    print('odd')"
   ]
  },
  {
   "cell_type": "code",
   "execution_count": 23,
   "metadata": {},
   "outputs": [
    {
     "name": "stdout",
     "output_type": "stream",
     "text": [
      "c is the biggest number\n"
     ]
    }
   ],
   "source": [
    "a, b, c = 10, 20, 30\n",
    "if a > b and a > c:\n",
    "    print('a is the biggest number')\n",
    "elif b > a and b > c:\n",
    "    print('b is the biggest number')\n",
    "else:\n",
    "    print('c is the biggest number')"
   ]
  },
  {
   "cell_type": "code",
   "execution_count": null,
   "metadata": {},
   "outputs": [],
   "source": [
    "username = input('enter your username: ')\n",
    "pwd = input('enter your password: ')\n",
    "if len(username) < 3:\n",
    "    print('❌ username must be at least 3 characters')\n",
    "elif len(pwd) < 8:\n",
    "    print('❌ password must be at least 8 characters')\n",
    "elif not username.isalpha():\n",
    "    print('❌ username must be alphabetic')\n",
    "else:\n",
    "    print('✅ username and password are valid')"
   ]
  },
  {
   "cell_type": "code",
   "execution_count": null,
   "metadata": {},
   "outputs": [],
   "source": [
    "username = input('enter your username: ')\n",
    "pwd = input('enter your password: ')\n",
    "if len(username) < 3:\n",
    "    print('❌ username must be at least 3 characters')\n",
    "if len(pwd) < 8:\n",
    "    print('❌ password must be at least 8 characters')\n",
    "if not username.isalpha():\n",
    "    print('❌ username must be alphabetic')\n",
    "if len(username) >= 3 and len(pwd) >= 8 and username.isalpha():\n",
    "    print('✅ username and password are valid')"
   ]
  },
  {
   "attachments": {},
   "cell_type": "markdown",
   "metadata": {},
   "source": [
    "#### match case (python 3.10)\n",
    "its used for checking *multiple conditions* of a *single variable value*\n",
    "\n",
    "```shell\n",
    "match variable:\n",
    "    case value1:\n",
    "        statement 1\n",
    "        statement 2\n",
    "        ...\n",
    "        statement n\n",
    "    ...\n",
    "    case value n:\n",
    "        statement 1\n",
    "        statement 2\n",
    "        ...\n",
    "        statement n\n",
    "    case _:\n",
    "        statement 1\n",
    "        statement 2\n",
    "        ...\n",
    "        statement n\n",
    "```"
   ]
  },
  {
   "cell_type": "code",
   "execution_count": 29,
   "metadata": {},
   "outputs": [
    {
     "name": "stdout",
     "output_type": "stream",
     "text": [
      "today is holiday\n"
     ]
    }
   ],
   "source": [
    "day = input('enter a day: ')\n",
    "match day:\n",
    "    case 'saturday':\n",
    "        print('today is saturday')\n",
    "    case 'sunday':\n",
    "        print('today is sunday')\n",
    "    case 'monday':\n",
    "        print('today is monday')\n",
    "    case 'tuesday':\n",
    "        print('today is tuesday')\n",
    "    case 'thursday' | 'holiday': \n",
    "        print('today is holiday')\n",
    "    case _: \n",
    "        print('invalid day')"
   ]
  },
  {
   "cell_type": "code",
   "execution_count": null,
   "metadata": {},
   "outputs": [],
   "source": []
  }
 ],
 "metadata": {
  "kernelspec": {
   "display_name": "base",
   "language": "python",
   "name": "python3"
  },
  "language_info": {
   "codemirror_mode": {
    "name": "ipython",
    "version": 3
   },
   "file_extension": ".py",
   "mimetype": "text/x-python",
   "name": "python",
   "nbconvert_exporter": "python",
   "pygments_lexer": "ipython3",
   "version": "3.10.11"
  },
  "orig_nbformat": 4
 },
 "nbformat": 4,
 "nbformat_minor": 2
}
