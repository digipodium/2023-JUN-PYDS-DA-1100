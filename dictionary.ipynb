{
 "cells": [
  {
   "cell_type": "code",
   "execution_count": null,
   "metadata": {},
   "outputs": [],
   "source": [
    "lbs_info = {\n",
    "    'full name': \"lal bahadur shastri college\",\n",
    "    'short name': 'lbs',\n",
    "    'students': 440,\n",
    "    'culture':'mood kharab bacche'\n",
    "}"
   ]
  },
  {
   "cell_type": "code",
   "execution_count": null,
   "metadata": {},
   "outputs": [],
   "source": [
    "movies = {\n",
    "    'Suryavansham': {\n",
    "        'streamed on': 'Sony Max',\n",
    "        'plot' : 'Rich father doesnot like his illitrate son',\n",
    "        'rating': 10\n",
    "    },\n",
    "    'Ghajini': {\n",
    "        'plot': 'Rich Person forgets everything after 15 minutes',\n",
    "        'rating': 10,\n",
    "        'streamed on': 'Jio Cinema'\n",
    "    },\n",
    "}"
   ]
  },
  {
   "attachments": {},
   "cell_type": "markdown",
   "metadata": {},
   "source": [
    "# adding data\n",
    "syntax\n",
    "```dict[key] = value```"
   ]
  },
  {
   "cell_type": "code",
   "execution_count": null,
   "metadata": {},
   "outputs": [],
   "source": [
    "\n",
    "movies['3 idiots'] = {\n",
    "    'streamed on': 'Amazon Prime',\n",
    "    'plot': '3 friends in college',\n",
    "    'rating': 10\n",
    "}"
   ]
  },
  {
   "cell_type": "code",
   "execution_count": null,
   "metadata": {},
   "outputs": [],
   "source": [
    "# retrieve\n",
    "movies['Ghajini']"
   ]
  },
  {
   "cell_type": "code",
   "execution_count": null,
   "metadata": {},
   "outputs": [],
   "source": [
    "movies['3 idiots']['plot']"
   ]
  },
  {
   "cell_type": "code",
   "execution_count": null,
   "metadata": {},
   "outputs": [],
   "source": [
    "# getting only keys\n",
    "list(movies.keys())"
   ]
  },
  {
   "cell_type": "code",
   "execution_count": null,
   "metadata": {},
   "outputs": [],
   "source": [
    "# getting only values\n",
    "list(movies.values())"
   ]
  },
  {
   "cell_type": "code",
   "execution_count": null,
   "metadata": {},
   "outputs": [],
   "source": [
    "# getting both keys and values as pair\n",
    "movies.items()"
   ]
  },
  {
   "cell_type": "code",
   "execution_count": 30,
   "metadata": {},
   "outputs": [
    {
     "name": "stdout",
     "output_type": "stream",
     "text": [
      "SURYAVANSHAM\n",
      "streamed on    Sony Max\n",
      "plot           Rich father doesnot like his illitrate son\n",
      "rating         10\n",
      "\n",
      "3 IDIOTS\n",
      "streamed on    Amazon Prime\n",
      "plot           3 friends in college\n",
      "rating         10\n",
      "\n"
     ]
    }
   ],
   "source": [
    "for title, details in movies.items():\n",
    "    print(title.upper())\n",
    "    for entry, value in details.items():\n",
    "        print(f'{entry:15}{value}')\n",
    "    print()"
   ]
  },
  {
   "cell_type": "code",
   "execution_count": 29,
   "metadata": {},
   "outputs": [
    {
     "ename": "KeyError",
     "evalue": "'Ghajini'",
     "output_type": "error",
     "traceback": [
      "\u001b[1;31m---------------------------------------------------------------------------\u001b[0m",
      "\u001b[1;31mKeyError\u001b[0m                                  Traceback (most recent call last)",
      "Cell \u001b[1;32mIn[29], line 1\u001b[0m\n\u001b[1;32m----> 1\u001b[0m movies\u001b[39m.\u001b[39;49mpop(\u001b[39m'\u001b[39;49m\u001b[39mGhajini\u001b[39;49m\u001b[39m'\u001b[39;49m)\n\u001b[0;32m      2\u001b[0m \u001b[39mprint\u001b[39m(movies)\n",
      "\u001b[1;31mKeyError\u001b[0m: 'Ghajini'"
     ]
    }
   ],
   "source": [
    "movies.pop('Ghajini')\n",
    "print(movies)"
   ]
  },
  {
   "cell_type": "code",
   "execution_count": null,
   "metadata": {},
   "outputs": [],
   "source": []
  }
 ],
 "metadata": {
  "kernelspec": {
   "display_name": "base",
   "language": "python",
   "name": "python3"
  },
  "language_info": {
   "codemirror_mode": {
    "name": "ipython",
    "version": 3
   },
   "file_extension": ".py",
   "mimetype": "text/x-python",
   "name": "python",
   "nbconvert_exporter": "python",
   "pygments_lexer": "ipython3",
   "version": "3.10.11"
  },
  "orig_nbformat": 4
 },
 "nbformat": 4,
 "nbformat_minor": 2
}
