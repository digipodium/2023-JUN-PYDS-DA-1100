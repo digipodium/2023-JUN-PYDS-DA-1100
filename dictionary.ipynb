{
 "cells": [
  {
   "cell_type": "code",
   "execution_count": null,
   "metadata": {},
   "outputs": [],
   "source": [
    "raju = {\n",
    "    'first name': 'Rajesh',\n",
    "    'last name': 'Kumar',\n",
    "    'age': 25,\n",
    "    'address': {\n",
    "        'house no': 123,\n",
    "        'street': 'MG Road',\n",
    "        'city': 'Bangalore',\n",
    "        'state': 'Karnataka',\n",
    "    }\n",
    "}\n",
    "\n",
    "print(raju)"
   ]
  },
  {
   "cell_type": "code",
   "execution_count": null,
   "metadata": {},
   "outputs": [],
   "source": [
    "print(raju['first name'])\n",
    "print(raju['age'])\n",
    "print(raju['address'])\n",
    "print(raju['address']['city'])\n",
    "# print(raju['City'])"
   ]
  },
  {
   "cell_type": "code",
   "execution_count": null,
   "metadata": {},
   "outputs": [],
   "source": [
    "print(raju.get('first name', 'not found')) # default value optional\n",
    "print(raju.get('middle name')) \n",
    "print(raju.get('middle name','not found')) # default value optional"
   ]
  },
  {
   "cell_type": "code",
   "execution_count": null,
   "metadata": {},
   "outputs": [],
   "source": [
    "# update value of a key\n",
    "raju['age'] = 24\n",
    "print(raju)"
   ]
  },
  {
   "cell_type": "code",
   "execution_count": null,
   "metadata": {},
   "outputs": [],
   "source": [
    "# adding an entry\n",
    "raju['middle name'] = 'Arun'\n",
    "raju['address']['country'] = 'India'\n",
    "raju['phone'] = '1234567890'\n",
    "\n",
    "print(raju)"
   ]
  },
  {
   "cell_type": "code",
   "execution_count": null,
   "metadata": {},
   "outputs": [],
   "source": [
    "# remove an entry\n",
    "raju.pop('middle name')"
   ]
  },
  {
   "cell_type": "code",
   "execution_count": null,
   "metadata": {},
   "outputs": [],
   "source": [
    "# list all keys\n",
    "print(raju.keys())\n",
    "# list all values\n",
    "print(raju.values())\n",
    "# list all key-value pairs\n",
    "print(raju.items())"
   ]
  },
  {
   "cell_type": "code",
   "execution_count": null,
   "metadata": {},
   "outputs": [],
   "source": [
    "for key in raju:\n",
    "    print(raju[key])"
   ]
  },
  {
   "cell_type": "code",
   "execution_count": null,
   "metadata": {},
   "outputs": [],
   "source": [
    "for k, v in raju.items():\n",
    "    print(k, v)"
   ]
  },
  {
   "cell_type": "code",
   "execution_count": 28,
   "metadata": {},
   "outputs": [
    {
     "data": {
      "text/plain": [
       "'India'"
      ]
     },
     "execution_count": 28,
     "metadata": {},
     "output_type": "execute_result"
    }
   ],
   "source": [
    "raju['address'].pop('country')"
   ]
  },
  {
   "cell_type": "code",
   "execution_count": 31,
   "metadata": {},
   "outputs": [],
   "source": [
    "# create a dictionary of 5 employees of account dept in a ACME company\n",
    "acme = {'accounts': { }}\n",
    "\n",
    "for i in range(5):\n",
    "    name = input('Enter name: ')\n",
    "    desig = input('Enter designation: ')\n",
    "    sal = int(input('Enter salary: '))\n",
    "    acme['accounts'][f'emp{i}'] = {\n",
    "        'name': name,\n",
    "        'designation': desig,\n",
    "        'salary': sal\n",
    "    }"
   ]
  },
  {
   "cell_type": "code",
   "execution_count": 29,
   "metadata": {},
   "outputs": [],
   "source": [
    "from pprint import pp"
   ]
  },
  {
   "cell_type": "code",
   "execution_count": 35,
   "metadata": {},
   "outputs": [
    {
     "name": "stdout",
     "output_type": "stream",
     "text": [
      "{'accounts': {'emp0': {'name': 'Prabhas',\n",
      "                       'designation': 'Staff Officer',\n",
      "                       'salary': 290000},\n",
      "              'emp1': {'name': 'Rajat',\n",
      "                       'designation': 'Assistant III',\n",
      "                       'salary': 21000},\n",
      "              'emp2': {'name': 'Laxmi',\n",
      "                       'designation': 'Assistant I',\n",
      "                       'salary': 50000},\n",
      "              'emp3': {'name': 'Suraj',\n",
      "                       'designation': 'Clerk',\n",
      "                       'salary': 32000},\n",
      "              'emp4': {'name': 'Arti',\n",
      "                       'designation': 'Manager',\n",
      "                       'salary': 120000}}}\n"
     ]
    }
   ],
   "source": [
    "pp(acme)"
   ]
  },
  {
   "cell_type": "code",
   "execution_count": 37,
   "metadata": {},
   "outputs": [
    {
     "name": "stdout",
     "output_type": "stream",
     "text": [
      "emp0\n",
      "emp1\n",
      "emp2\n",
      "emp3\n",
      "emp4\n",
      "0\n"
     ]
    }
   ],
   "source": [
    "answer = 0\n",
    "for emp in acme['accounts']:\n",
    "    answer += acme['accounts'][emp]['salary']\n",
    "print(answer)"
   ]
  },
  {
   "cell_type": "code",
   "execution_count": 38,
   "metadata": {},
   "outputs": [
    {
     "name": "stdout",
     "output_type": "stream",
     "text": [
      "❌ contact not found\n",
      "add contact\n",
      "✅ contact added\n",
      "❌ contact not found\n",
      "add contact\n",
      "✅ contact added\n",
      "✅ found contact\n",
      "name Ravi\n",
      "number 2193012320\n",
      "✅ found contact\n",
      "name Police\n",
      "number 112\n",
      "✅ found contact\n",
      "name police\n",
      "number 100\n"
     ]
    }
   ],
   "source": [
    "# create a contact dictionary and\n",
    "# let user check if a contact exists\n",
    "# if yes, print the contact details\n",
    "# if no, ask user to add the contact\n",
    "\n",
    "contacts = {'Police':112}\n",
    "while True:\n",
    "    contact_name = input('Enter contact name: ')\n",
    "    if contact_name in contacts:\n",
    "        print('✅ found contact')\n",
    "        print('name',contact_name)\n",
    "        print('number',contacts[contact_name])\n",
    "    elif contact_name == 'exit':\n",
    "        break\n",
    "    else:\n",
    "        print('❌ contact not found')\n",
    "        print('add contact')\n",
    "        contact_number = input('Enter contact number: ')\n",
    "        contacts[contact_name] = contact_number\n",
    "        print('✅ contact added')\n"
   ]
  },
  {
   "cell_type": "code",
   "execution_count": null,
   "metadata": {},
   "outputs": [],
   "source": []
  }
 ],
 "metadata": {
  "kernelspec": {
   "display_name": "base",
   "language": "python",
   "name": "python3"
  },
  "language_info": {
   "codemirror_mode": {
    "name": "ipython",
    "version": 3
   },
   "file_extension": ".py",
   "mimetype": "text/x-python",
   "name": "python",
   "nbconvert_exporter": "python",
   "pygments_lexer": "ipython3",
   "version": "3.10.11"
  },
  "orig_nbformat": 4
 },
 "nbformat": 4,
 "nbformat_minor": 2
}
