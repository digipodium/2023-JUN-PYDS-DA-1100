{
 "cells": [
  {
   "cell_type": "markdown",
   "metadata": {},
   "source": [
    "programming functions\n",
    "- **predefined functions**\n",
    "    - *standard library*\n",
    "        - the functios that are imported by default when executing python code\n",
    "    - library (module) functions\n",
    "        - preinstalled\n",
    "            - for example\n",
    "                - os\n",
    "                - math\n",
    "                - random\n",
    "                - datetime\n",
    "        - *3rd party*\n",
    "            - install with pip\n",
    "                - `pip install <package-name>`\n",
    "                - `pip show <package-name>`\n",
    "            - install with conda\n",
    "                - `conda install <repo> <package-name>`\n",
    "- **user defined functions**\n",
    "    - functions with name\n",
    "        1. function without parameters and return value\n",
    "        2. function with parameters\n",
    "            - required parameters\n",
    "            - default parameters\n",
    "            - named parameters\n",
    "            - variable arguments\n",
    "            - keyword variable arguments\n",
    "        3. function with return value\n",
    "        4. function with both parameters and return value\n",
    "        5. generators   \n",
    "    - functions without name\n",
    "        - *lambda functions* (anonymous functions)"
   ]
  },
  {
   "cell_type": "code",
   "execution_count": 5,
   "metadata": {},
   "outputs": [],
   "source": [
    "# simple interest\n",
    "def si(p, r, t):\n",
    "    '''A function to calculate simple interest'''\n",
    "    ans = p * r * t / 100\n",
    "    print(f'Simple Interest is {ans:.2f}')"
   ]
  },
  {
   "cell_type": "code",
   "execution_count": 6,
   "metadata": {},
   "outputs": [
    {
     "name": "stdout",
     "output_type": "stream",
     "text": [
      "Simple Interest is 100.00\n"
     ]
    }
   ],
   "source": [
    "si(1000, 5, 2)"
   ]
  },
  {
   "cell_type": "code",
   "execution_count": 7,
   "metadata": {},
   "outputs": [
    {
     "name": "stdout",
     "output_type": "stream",
     "text": [
      "\u001b[1;31mSignature:\u001b[0m \u001b[0msi\u001b[0m\u001b[1;33m(\u001b[0m\u001b[0mp\u001b[0m\u001b[1;33m,\u001b[0m \u001b[0mr\u001b[0m\u001b[1;33m,\u001b[0m \u001b[0mt\u001b[0m\u001b[1;33m)\u001b[0m\u001b[1;33m\u001b[0m\u001b[1;33m\u001b[0m\u001b[0m\n",
      "\u001b[1;31mDocstring:\u001b[0m A function to calculate simple interest\n",
      "\u001b[1;31mFile:\u001b[0m      c:\\users\\zaid\\appdata\\local\\temp\\ipykernel_12944\\2730980057.py\n",
      "\u001b[1;31mType:\u001b[0m      function"
     ]
    }
   ],
   "source": [
    "si?"
   ]
  },
  {
   "cell_type": "code",
   "execution_count": null,
   "metadata": {},
   "outputs": [],
   "source": []
  }
 ],
 "metadata": {
  "kernelspec": {
   "display_name": "base",
   "language": "python",
   "name": "python3"
  },
  "language_info": {
   "codemirror_mode": {
    "name": "ipython",
    "version": 3
   },
   "file_extension": ".py",
   "mimetype": "text/x-python",
   "name": "python",
   "nbconvert_exporter": "python",
   "pygments_lexer": "ipython3",
   "version": "3.10.11"
  },
  "orig_nbformat": 4
 },
 "nbformat": 4,
 "nbformat_minor": 2
}
