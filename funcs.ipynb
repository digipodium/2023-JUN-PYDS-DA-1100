{
 "cells": [
  {
   "cell_type": "markdown",
   "metadata": {},
   "source": [
    "programming functions\n",
    "- **predefined functions**\n",
    "    - *standard library*\n",
    "        - the functios that are imported by default when executing python code\n",
    "    - library (module) functions\n",
    "        - preinstalled\n",
    "            - for example\n",
    "                - os\n",
    "                - math\n",
    "                - random\n",
    "                - datetime\n",
    "        - *3rd party*\n",
    "            - install with pip\n",
    "                - `pip install <package-name>`\n",
    "                - `pip show <package-name>`\n",
    "            - install with conda\n",
    "                - `conda install <repo> <package-name>`\n",
    "- **user defined functions**\n",
    "    - functions with name\n",
    "        1. function without parameters and return value\n",
    "        2. function with parameters\n",
    "            - required parameters\n",
    "            - default parameters\n",
    "            - named parameters\n",
    "            - variable arguments\n",
    "            - variable keyword arguments\n",
    "        3. function with return value\n",
    "        4. function with both parameters and return value\n",
    "        5. generators   \n",
    "    - functions without name\n",
    "        - *lambda functions* (anonymous functions)"
   ]
  },
  {
   "cell_type": "code",
   "execution_count": 18,
   "metadata": {},
   "outputs": [],
   "source": [
    "# simple interest\n",
    "def si(p, r, t):\n",
    "    '''A function to calculate simple interest'''\n",
    "    ans = p * r * t / 100\n",
    "    print(f'Simple Interest is {ans:.2f}')"
   ]
  },
  {
   "cell_type": "code",
   "execution_count": 19,
   "metadata": {},
   "outputs": [
    {
     "name": "stdout",
     "output_type": "stream",
     "text": [
      "Simple Interest is 100.00\n"
     ]
    }
   ],
   "source": [
    "si(1000, 5, 2)"
   ]
  },
  {
   "cell_type": "code",
   "execution_count": 20,
   "metadata": {},
   "outputs": [],
   "source": [
    "def hypotenuse(p=1, b=1):\n",
    "    h = (p**2 + b**2) ** 0.5\n",
    "    print(h)"
   ]
  },
  {
   "cell_type": "code",
   "execution_count": 22,
   "metadata": {},
   "outputs": [
    {
     "name": "stdout",
     "output_type": "stream",
     "text": [
      "1.4142135623730951\n",
      "5.0990195135927845\n",
      "13.0\n",
      "11.180339887498949\n",
      "17.69180601295413\n",
      "13.0\n",
      "16.97056274847714\n",
      "16.97056274847714\n",
      "16.97056274847714\n",
      "16.97056274847714\n"
     ]
    }
   ],
   "source": [
    "hypotenuse()\n",
    "hypotenuse(5)\n",
    "hypotenuse(12,5)\n",
    "hypotenuse(p=10, b=5) # named arguments / keyword arguments\n",
    "hypotenuse(b=13, p=12) \n",
    "hypotenuse(12, b=5) # positional arguments\n",
    "\n",
    "x = int(input('Perp'))\n",
    "y = int(input('Base'))\n",
    "hypotenuse(x, y)\n",
    "hypotenuse(p=x, b=y)\n",
    "hypotenuse(x, b=y)\n",
    "hypotenuse(b=y, p=x)"
   ]
  },
  {
   "cell_type": "code",
   "execution_count": 26,
   "metadata": {},
   "outputs": [],
   "source": [
    "def multiplier(*num):\n",
    "    ans = 1\n",
    "    for i in num:\n",
    "        ans *= i\n",
    "    print(ans)"
   ]
  },
  {
   "cell_type": "code",
   "execution_count": 27,
   "metadata": {},
   "outputs": [
    {
     "name": "stdout",
     "output_type": "stream",
     "text": [
      "1\n",
      "2\n",
      "24\n",
      "576\n"
     ]
    }
   ],
   "source": [
    "multiplier()\n",
    "multiplier(2)\n",
    "multiplier(2,3,4)\n",
    "multiplier(2,3,4,1,12,2)"
   ]
  },
  {
   "cell_type": "code",
   "execution_count": 28,
   "metadata": {},
   "outputs": [],
   "source": [
    "def agg(*num, operator=\"add\"):\n",
    "    if operator == 'add':\n",
    "        ans = 0\n",
    "        for i in num:\n",
    "            ans += i\n",
    "        print(ans)\n",
    "    elif operator == 'mul':\n",
    "        ans = 1\n",
    "        for i in num:\n",
    "            ans *= i\n",
    "        print(ans)\n",
    "    elif operator == 'mean':\n",
    "        ans = 0\n",
    "        for i in num:\n",
    "            ans += i\n",
    "        print(ans/len(num))\n",
    "    else:\n",
    "        print('Invalid operator')"
   ]
  },
  {
   "cell_type": "code",
   "execution_count": 34,
   "metadata": {},
   "outputs": [
    {
     "name": "stdout",
     "output_type": "stream",
     "text": [
      "66\n"
     ]
    },
    {
     "ename": "TypeError",
     "evalue": "unsupported operand type(s) for +=: 'int' and 'str'",
     "output_type": "error",
     "traceback": [
      "\u001b[1;31m---------------------------------------------------------------------------\u001b[0m",
      "\u001b[1;31mTypeError\u001b[0m                                 Traceback (most recent call last)",
      "Cell \u001b[1;32mIn[34], line 2\u001b[0m\n\u001b[0;32m      1\u001b[0m agg(\u001b[39m11\u001b[39m,\u001b[39m22\u001b[39m,\u001b[39m33\u001b[39m)\n\u001b[1;32m----> 2\u001b[0m agg(\u001b[39m11\u001b[39;49m,\u001b[39m22\u001b[39;49m,\u001b[39m1\u001b[39;49m,\u001b[39m2\u001b[39;49m,\u001b[39m3\u001b[39;49m, \u001b[39m'\u001b[39;49m\u001b[39mmul\u001b[39;49m\u001b[39m'\u001b[39;49m)\n\u001b[0;32m      3\u001b[0m agg(\u001b[39m11\u001b[39m,\u001b[39m22\u001b[39m,\u001b[39m33\u001b[39m,\u001b[39m1\u001b[39m,\u001b[39m2\u001b[39m, operator\u001b[39m=\u001b[39m\u001b[39m'\u001b[39m\u001b[39mmean\u001b[39m\u001b[39m'\u001b[39m)\n\u001b[0;32m      4\u001b[0m agg(\u001b[39m11\u001b[39m,\u001b[39m22\u001b[39m,\u001b[39m33\u001b[39m,\u001b[39m3\u001b[39m,\u001b[39m1\u001b[39m, operator\u001b[39m=\u001b[39m\u001b[39m'\u001b[39m\u001b[39msheen\u001b[39m\u001b[39m'\u001b[39m)\n",
      "Cell \u001b[1;32mIn[28], line 5\u001b[0m, in \u001b[0;36magg\u001b[1;34m(operator, *num)\u001b[0m\n\u001b[0;32m      3\u001b[0m     ans \u001b[39m=\u001b[39m \u001b[39m0\u001b[39m\n\u001b[0;32m      4\u001b[0m     \u001b[39mfor\u001b[39;00m i \u001b[39min\u001b[39;00m num:\n\u001b[1;32m----> 5\u001b[0m         ans \u001b[39m+\u001b[39m\u001b[39m=\u001b[39m i\n\u001b[0;32m      6\u001b[0m     \u001b[39mprint\u001b[39m(ans)\n\u001b[0;32m      7\u001b[0m \u001b[39melif\u001b[39;00m operator \u001b[39m==\u001b[39m \u001b[39m'\u001b[39m\u001b[39mmul\u001b[39m\u001b[39m'\u001b[39m:\n",
      "\u001b[1;31mTypeError\u001b[0m: unsupported operand type(s) for +=: 'int' and 'str'"
     ]
    }
   ],
   "source": [
    "agg(11,22,33)\n",
    "agg(11,22,1,2,3, operator='mul')\n",
    "agg(11,22,33,1,2, operator='mean')\n",
    "agg(11,22,33,3,1, operator='sheen')"
   ]
  },
  {
   "cell_type": "code",
   "execution_count": null,
   "metadata": {},
   "outputs": [],
   "source": []
  }
 ],
 "metadata": {
  "kernelspec": {
   "display_name": "base",
   "language": "python",
   "name": "python3"
  },
  "language_info": {
   "codemirror_mode": {
    "name": "ipython",
    "version": 3
   },
   "file_extension": ".py",
   "mimetype": "text/x-python",
   "name": "python",
   "nbconvert_exporter": "python",
   "pygments_lexer": "ipython3",
   "version": "3.10.11"
  },
  "orig_nbformat": 4
 },
 "nbformat": 4,
 "nbformat_minor": 2
}
